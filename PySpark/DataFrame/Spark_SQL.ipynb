{
 "cells": [
  {
   "cell_type": "code",
   "execution_count": 1,
   "id": "1eb66a41",
   "metadata": {},
   "outputs": [],
   "source": [
    "import findspark\n",
    "findspark.init()"
   ]
  },
  {
   "cell_type": "code",
   "execution_count": 2,
   "id": "0ae8b999",
   "metadata": {},
   "outputs": [],
   "source": [
    "import pyspark\n",
    "from pyspark.sql import SparkSession\n",
    "spark = SparkSession.builder.master(\"local[1]\") \\\n",
    "                    .appName('pyspark-examples') \\\n",
    "                    .getOrCreate()"
   ]
  },
  {
   "cell_type": "code",
   "execution_count": 4,
   "id": "3f7d0a96",
   "metadata": {},
   "outputs": [
    {
     "name": "stdout",
     "output_type": "stream",
     "text": [
      "+----+-------+\n",
      "| age|   name|\n",
      "+----+-------+\n",
      "|null|Michael|\n",
      "|  30|   Andy|\n",
      "|  19| Justin|\n",
      "|  25|  Anand|\n",
      "|  40|Karthik|\n",
      "|  50|Debasis|\n",
      "|  28| Swathi|\n",
      "|  30|   Mary|\n",
      "|  45|  Sunil|\n",
      "|  20|Manisha|\n",
      "+----+-------+\n",
      "\n",
      "root\n",
      " |-- age: long (nullable = true)\n",
      " |-- name: string (nullable = true)\n",
      "\n"
     ]
    }
   ],
   "source": [
    "df = spark.read.json(\"people.json\")\n",
    "\n",
    "df.show()\n",
    "df.printSchema()"
   ]
  },
  {
   "cell_type": "code",
   "execution_count": 5,
   "id": "50b21e5e",
   "metadata": {},
   "outputs": [],
   "source": [
    "df.createOrReplaceTempView(\"people\")"
   ]
  },
  {
   "cell_type": "code",
   "execution_count": 7,
   "id": "ae8ddd4b",
   "metadata": {},
   "outputs": [],
   "source": [
    "teenagers = spark.sql(\"SELECT name, age FROM people WHERE age >= 13 AND age <= 19\")"
   ]
  },
  {
   "cell_type": "code",
   "execution_count": 9,
   "id": "e6aa0e0f",
   "metadata": {},
   "outputs": [
    {
     "name": "stdout",
     "output_type": "stream",
     "text": [
      "+------+---+\n",
      "|name  |age|\n",
      "+------+---+\n",
      "|Justin|19 |\n",
      "+------+---+\n",
      "\n"
     ]
    }
   ],
   "source": [
    "teenagers.show(truncate = False)"
   ]
  },
  {
   "cell_type": "markdown",
   "id": "46e1b8f8",
   "metadata": {},
   "source": [
    "Find the count of teenagers (age <= 19) and adult."
   ]
  },
  {
   "cell_type": "code",
   "execution_count": 19,
   "id": "bc10f5d0",
   "metadata": {},
   "outputs": [
    {
     "name": "stdout",
     "output_type": "stream",
     "text": [
      "+-----+---------+\n",
      "|count|age_group|\n",
      "+-----+---------+\n",
      "|1    |Teenager |\n",
      "|8    |Adults   |\n",
      "+-----+---------+\n",
      "\n"
     ]
    }
   ],
   "source": [
    "spark.sql(\"SELECT count(name) as count, if(age <= 19, 'Teenager','Adults') as age_group FROM people where age is not Null group by (age_group)\").show(truncate = False)"
   ]
  },
  {
   "cell_type": "markdown",
   "id": "585eaf81",
   "metadata": {},
   "source": [
    "Using Case Statements"
   ]
  },
  {
   "cell_type": "code",
   "execution_count": 33,
   "id": "056c4be1",
   "metadata": {},
   "outputs": [
    {
     "name": "stdout",
     "output_type": "stream",
     "text": [
      "+-----+-----------+\n",
      "|count|age_group  |\n",
      "+-----+-----------+\n",
      "|5    |Youngsters |\n",
      "|1    |Seniors    |\n",
      "|1    |Teenagers  |\n",
      "|2    |MiddleAgers|\n",
      "+-----+-----------+\n",
      "\n"
     ]
    }
   ],
   "source": [
    "spark.sql(\"SELECT count(name) as count, case when age < 13 then 'Kids' \\\n",
    "\t\t   when (age >= 13) and (age <= 19) then 'Teenagers' \\\n",
    "           when (age > 19) and (age <= 30) then 'Youngsters' \\\n",
    "           when (age > 30) and (age < 50) then 'MiddleAgers' \\\n",
    "           else 'Seniors' END as age_group \\\n",
    "           FROM people where age is not Null \\\n",
    "           group by (age_group)\").show(truncate = False)"
   ]
  },
  {
   "cell_type": "code",
   "execution_count": null,
   "id": "7bbf890f",
   "metadata": {},
   "outputs": [],
   "source": []
  }
 ],
 "metadata": {
  "kernelspec": {
   "display_name": "Python 3 (ipykernel)",
   "language": "python",
   "name": "python3"
  },
  "language_info": {
   "codemirror_mode": {
    "name": "ipython",
    "version": 3
   },
   "file_extension": ".py",
   "mimetype": "text/x-python",
   "name": "python",
   "nbconvert_exporter": "python",
   "pygments_lexer": "ipython3",
   "version": "3.9.13"
  }
 },
 "nbformat": 4,
 "nbformat_minor": 5
}
