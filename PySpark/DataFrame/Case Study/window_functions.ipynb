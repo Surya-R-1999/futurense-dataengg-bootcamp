{
 "cells": [
  {
   "cell_type": "code",
   "execution_count": 1,
   "id": "56ba73fa",
   "metadata": {},
   "outputs": [],
   "source": [
    "import findspark\n",
    "findspark.init()"
   ]
  },
  {
   "cell_type": "code",
   "execution_count": 2,
   "id": "2afaf498",
   "metadata": {},
   "outputs": [
    {
     "name": "stdout",
     "output_type": "stream",
     "text": [
      "root\n",
      " |-- employee_name: string (nullable = true)\n",
      " |-- department: string (nullable = true)\n",
      " |-- salary: long (nullable = true)\n",
      "\n",
      "+-------------+----------+------+\n",
      "|employee_name|department|salary|\n",
      "+-------------+----------+------+\n",
      "|James        |Sales     |3000  |\n",
      "|Michael      |Sales     |4600  |\n",
      "|Robert       |Sales     |4100  |\n",
      "|Maria        |Finance   |3000  |\n",
      "|James        |Sales     |3000  |\n",
      "|Scott        |Finance   |3300  |\n",
      "|Jen          |Finance   |3900  |\n",
      "|Jeff         |Marketing |3000  |\n",
      "|Kumar        |Marketing |2000  |\n",
      "|Saif         |Sales     |4100  |\n",
      "+-------------+----------+------+\n",
      "\n"
     ]
    }
   ],
   "source": [
    "import pyspark\n",
    "from pyspark.sql import SparkSession\n",
    "\n",
    "spark = SparkSession.builder.appName('pyspark-examples').getOrCreate()\n",
    "\n",
    "simpleData = ((\"James\", \"Sales\", 3000), \\\n",
    "    (\"Michael\", \"Sales\", 4600),  \\\n",
    "    (\"Robert\", \"Sales\", 4100),   \\\n",
    "    (\"Maria\", \"Finance\", 3000),  \\\n",
    "    (\"James\", \"Sales\", 3000),    \\\n",
    "    (\"Scott\", \"Finance\", 3300),  \\\n",
    "    (\"Jen\", \"Finance\", 3900),    \\\n",
    "    (\"Jeff\", \"Marketing\", 3000), \\\n",
    "    (\"Kumar\", \"Marketing\", 2000),\\\n",
    "    (\"Saif\", \"Sales\", 4100) \\\n",
    "  )\n",
    " \n",
    "columns= [\"employee_name\", \"department\", \"salary\"]\n",
    "\n",
    "df = spark.createDataFrame(data = simpleData, schema = columns)\n",
    "\n",
    "df.printSchema()\n",
    "df.show(truncate=False)"
   ]
  },
  {
   "cell_type": "code",
   "execution_count": 3,
   "id": "c7c2122d",
   "metadata": {},
   "outputs": [],
   "source": [
    "from pyspark.sql.window import Window # displays the result as added column for each and every record.\n",
    "from pyspark.sql.functions import *"
   ]
  },
  {
   "cell_type": "code",
   "execution_count": 4,
   "id": "07aaf946",
   "metadata": {},
   "outputs": [],
   "source": [
    "windowSpec = Window.partitionBy(\"department\").orderBy(\"Salary\") # acts as cte which can be used in over() clause and partitionBy acts as groupby clause"
   ]
  },
  {
   "cell_type": "code",
   "execution_count": 5,
   "id": "46f69947",
   "metadata": {},
   "outputs": [
    {
     "name": "stdout",
     "output_type": "stream",
     "text": [
      "+-------------+----------+------+----------+\n",
      "|employee_name|department|salary|row_number|\n",
      "+-------------+----------+------+----------+\n",
      "|Maria        |Finance   |3000  |1         |\n",
      "|Scott        |Finance   |3300  |2         |\n",
      "|Jen          |Finance   |3900  |3         |\n",
      "|Kumar        |Marketing |2000  |1         |\n",
      "|Jeff         |Marketing |3000  |2         |\n",
      "|James        |Sales     |3000  |1         |\n",
      "|James        |Sales     |3000  |2         |\n",
      "|Robert       |Sales     |4100  |3         |\n",
      "|Saif         |Sales     |4100  |4         |\n",
      "|Michael      |Sales     |4600  |5         |\n",
      "+-------------+----------+------+----------+\n",
      "\n"
     ]
    }
   ],
   "source": [
    "df.withColumn(\"row_number\", row_number().over(windowSpec)).show(truncate = False) # since we haven't assigned the result to df it won't add the row_number column"
   ]
  },
  {
   "cell_type": "code",
   "execution_count": 6,
   "id": "b30d5f4c",
   "metadata": {},
   "outputs": [
    {
     "name": "stdout",
     "output_type": "stream",
     "text": [
      "+-------------+----------+------+\n",
      "|employee_name|department|salary|\n",
      "+-------------+----------+------+\n",
      "|        James|     Sales|  3000|\n",
      "|      Michael|     Sales|  4600|\n",
      "|       Robert|     Sales|  4100|\n",
      "|        Maria|   Finance|  3000|\n",
      "|        James|     Sales|  3000|\n",
      "|        Scott|   Finance|  3300|\n",
      "|          Jen|   Finance|  3900|\n",
      "|         Jeff| Marketing|  3000|\n",
      "|        Kumar| Marketing|  2000|\n",
      "|         Saif|     Sales|  4100|\n",
      "+-------------+----------+------+\n",
      "\n"
     ]
    }
   ],
   "source": [
    "df.show()"
   ]
  },
  {
   "cell_type": "code",
   "execution_count": 7,
   "id": "52ef7246",
   "metadata": {},
   "outputs": [
    {
     "name": "stdout",
     "output_type": "stream",
     "text": [
      "+-------------+----------+------+----+\n",
      "|employee_name|department|salary|rank|\n",
      "+-------------+----------+------+----+\n",
      "|Maria        |Finance   |3000  |1   |\n",
      "|Scott        |Finance   |3300  |2   |\n",
      "|Jen          |Finance   |3900  |3   |\n",
      "|Kumar        |Marketing |2000  |1   |\n",
      "|Jeff         |Marketing |3000  |2   |\n",
      "|James        |Sales     |3000  |1   |\n",
      "|James        |Sales     |3000  |1   |\n",
      "|Robert       |Sales     |4100  |3   |\n",
      "|Saif         |Sales     |4100  |3   |\n",
      "|Michael      |Sales     |4600  |5   |\n",
      "+-------------+----------+------+----+\n",
      "\n"
     ]
    }
   ],
   "source": [
    "df.withColumn(\"rank\", rank().over(windowSpec)).show(truncate = False) # Here the ranking is based on the salary and the rank starts from 1 for every department."
   ]
  },
  {
   "cell_type": "code",
   "execution_count": 8,
   "id": "60b815af",
   "metadata": {},
   "outputs": [
    {
     "name": "stdout",
     "output_type": "stream",
     "text": [
      "+-------------+----------+------+----------+\n",
      "|employee_name|department|salary|dense rank|\n",
      "+-------------+----------+------+----------+\n",
      "|Maria        |Finance   |3000  |1         |\n",
      "|Scott        |Finance   |3300  |2         |\n",
      "|Jen          |Finance   |3900  |3         |\n",
      "|Kumar        |Marketing |2000  |1         |\n",
      "|Jeff         |Marketing |3000  |2         |\n",
      "|James        |Sales     |3000  |1         |\n",
      "|James        |Sales     |3000  |1         |\n",
      "|Robert       |Sales     |4100  |2         |\n",
      "|Saif         |Sales     |4100  |2         |\n",
      "|Michael      |Sales     |4600  |3         |\n",
      "+-------------+----------+------+----------+\n",
      "\n"
     ]
    }
   ],
   "source": [
    "df.withColumn(\"dense rank\", dense_rank().over(windowSpec)).show(truncate = False) # Here the difference between the rank and the dense_rank is that there won't be any gaps in dense_rank function"
   ]
  },
  {
   "cell_type": "code",
   "execution_count": 9,
   "id": "80daf62a",
   "metadata": {},
   "outputs": [
    {
     "name": "stdout",
     "output_type": "stream",
     "text": [
      "+-------------+----------+------+------------+\n",
      "|employee_name|department|salary|percent rank|\n",
      "+-------------+----------+------+------------+\n",
      "|Maria        |Finance   |3000  |0.0         |\n",
      "|Scott        |Finance   |3300  |0.5         |\n",
      "|Jen          |Finance   |3900  |1.0         |\n",
      "|Kumar        |Marketing |2000  |0.0         |\n",
      "|Jeff         |Marketing |3000  |1.0         |\n",
      "|James        |Sales     |3000  |0.0         |\n",
      "|James        |Sales     |3000  |0.0         |\n",
      "|Robert       |Sales     |4100  |0.5         |\n",
      "|Saif         |Sales     |4100  |0.5         |\n",
      "|Michael      |Sales     |4600  |1.0         |\n",
      "+-------------+----------+------+------------+\n",
      "\n"
     ]
    }
   ],
   "source": [
    "df.withColumn(\"percent rank\", percent_rank().over(windowSpec)).show(truncate = False) # percent rank shows the distribution of salary per department\n",
    "# 0.0 refers the min , 1.0 refers the max value and the intermediate values ranges from 0.0 to 1.0."
   ]
  },
  {
   "cell_type": "code",
   "execution_count": 10,
   "id": "e07dba06",
   "metadata": {},
   "outputs": [
    {
     "name": "stdout",
     "output_type": "stream",
     "text": [
      "+-------------+----------+------+-----+\n",
      "|employee_name|department|salary|ntile|\n",
      "+-------------+----------+------+-----+\n",
      "|Maria        |Finance   |3000  |1    |\n",
      "|Scott        |Finance   |3300  |1    |\n",
      "|Jen          |Finance   |3900  |2    |\n",
      "|Kumar        |Marketing |2000  |1    |\n",
      "|Jeff         |Marketing |3000  |2    |\n",
      "|James        |Sales     |3000  |1    |\n",
      "|James        |Sales     |3000  |1    |\n",
      "|Robert       |Sales     |4100  |1    |\n",
      "|Saif         |Sales     |4100  |2    |\n",
      "|Michael      |Sales     |4600  |2    |\n",
      "+-------------+----------+------+-----+\n",
      "\n"
     ]
    }
   ],
   "source": [
    "df.withColumn(\"ntile\", ntile(2).over(windowSpec)).show(truncate = False) # for every partition it distributes equally, the salary into 2 groups "
   ]
  },
  {
   "cell_type": "code",
   "execution_count": 11,
   "id": "2b1a2f2e",
   "metadata": {},
   "outputs": [
    {
     "name": "stdout",
     "output_type": "stream",
     "text": [
      "+-------------+----------+------+------------------+\n",
      "|employee_name|department|salary|cume_dist         |\n",
      "+-------------+----------+------+------------------+\n",
      "|Maria        |Finance   |3000  |0.3333333333333333|\n",
      "|Scott        |Finance   |3300  |0.6666666666666666|\n",
      "|Jen          |Finance   |3900  |1.0               |\n",
      "|Kumar        |Marketing |2000  |0.5               |\n",
      "|Jeff         |Marketing |3000  |1.0               |\n",
      "|James        |Sales     |3000  |0.4               |\n",
      "|James        |Sales     |3000  |0.4               |\n",
      "|Robert       |Sales     |4100  |0.8               |\n",
      "|Saif         |Sales     |4100  |0.8               |\n",
      "|Michael      |Sales     |4600  |1.0               |\n",
      "+-------------+----------+------+------------------+\n",
      "\n"
     ]
    }
   ],
   "source": [
    "df.withColumn(\"cume_dist\", cume_dist().over(windowSpec)).show(truncate = False) # provides the distribution same as percent_rank for each partitions"
   ]
  },
  {
   "cell_type": "code",
   "execution_count": 12,
   "id": "5339443f",
   "metadata": {},
   "outputs": [
    {
     "name": "stdout",
     "output_type": "stream",
     "text": [
      "+-------------+----------+------+----+\n",
      "|employee_name|department|salary|lag |\n",
      "+-------------+----------+------+----+\n",
      "|Maria        |Finance   |3000  |null|\n",
      "|Scott        |Finance   |3300  |null|\n",
      "|Jen          |Finance   |3900  |3000|\n",
      "|Kumar        |Marketing |2000  |null|\n",
      "|Jeff         |Marketing |3000  |null|\n",
      "|James        |Sales     |3000  |null|\n",
      "|James        |Sales     |3000  |null|\n",
      "|Robert       |Sales     |4100  |3000|\n",
      "|Saif         |Sales     |4100  |3000|\n",
      "|Michael      |Sales     |4600  |4100|\n",
      "+-------------+----------+------+----+\n",
      "\n"
     ]
    }
   ],
   "source": [
    "df.withColumn(\"lag\", lag('salary',2).over(windowSpec)).show(truncate = False) # lags provides the preceding value for ecah partitions"
   ]
  },
  {
   "cell_type": "code",
   "execution_count": 13,
   "id": "8a161747",
   "metadata": {},
   "outputs": [
    {
     "name": "stdout",
     "output_type": "stream",
     "text": [
      "+-------------+----------+------+----+\n",
      "|employee_name|department|salary|lead|\n",
      "+-------------+----------+------+----+\n",
      "|Maria        |Finance   |3000  |3900|\n",
      "|Scott        |Finance   |3300  |null|\n",
      "|Jen          |Finance   |3900  |null|\n",
      "|Kumar        |Marketing |2000  |null|\n",
      "|Jeff         |Marketing |3000  |null|\n",
      "|James        |Sales     |3000  |4100|\n",
      "|James        |Sales     |3000  |4100|\n",
      "|Robert       |Sales     |4100  |4600|\n",
      "|Saif         |Sales     |4100  |null|\n",
      "|Michael      |Sales     |4600  |null|\n",
      "+-------------+----------+------+----+\n",
      "\n"
     ]
    }
   ],
   "source": [
    "df.withColumn(\"lead\", lead('salary',2).over(windowSpec)).show(truncate = False) # leads provides the succeding value for ecah partitions"
   ]
  },
  {
   "cell_type": "code",
   "execution_count": 14,
   "id": "8a66e693",
   "metadata": {},
   "outputs": [
    {
     "name": "stdout",
     "output_type": "stream",
     "text": [
      "+----------+------+-----+----+----+\n",
      "|department|   avg|  sum| min| max|\n",
      "+----------+------+-----+----+----+\n",
      "|   Finance|3400.0|10200|3000|3900|\n",
      "| Marketing|2500.0| 5000|2000|3000|\n",
      "|     Sales|3760.0|18800|3000|4600|\n",
      "+----------+------+-----+----+----+\n",
      "\n"
     ]
    }
   ],
   "source": [
    "windowSpecAgg  = Window.partitionBy(\"department\") # new windowSpec\n",
    "\n",
    "# Aggregate functions:\n",
    "\n",
    "df.withColumn(\"row\",row_number().over(windowSpec)) \\\n",
    "  .withColumn(\"avg\", avg(col(\"salary\")).over(windowSpecAgg)) \\\n",
    "  .withColumn(\"sum\", sum(col(\"salary\")).over(windowSpecAgg)) \\\n",
    "  .withColumn(\"min\", min(col(\"salary\")).over(windowSpecAgg)) \\\n",
    "  .withColumn(\"max\", max(col(\"salary\")).over(windowSpecAgg)) \\\n",
    "  .where(col(\"row\")==1).select(\"department\",\"avg\",\"sum\",\"min\",\"max\") \\ # here for ecah dept the top 1 row is extracted\n",
    "  .show()"
   ]
  }
 ],
 "metadata": {
  "kernelspec": {
   "display_name": "Python 3 (ipykernel)",
   "language": "python",
   "name": "python3"
  },
  "language_info": {
   "codemirror_mode": {
    "name": "ipython",
    "version": 3
   },
   "file_extension": ".py",
   "mimetype": "text/x-python",
   "name": "python",
   "nbconvert_exporter": "python",
   "pygments_lexer": "ipython3",
   "version": "3.9.13"
  }
 },
 "nbformat": 4,
 "nbformat_minor": 5
}
