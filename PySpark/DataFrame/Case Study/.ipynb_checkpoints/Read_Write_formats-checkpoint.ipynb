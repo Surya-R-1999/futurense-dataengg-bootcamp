{
 "cells": [
  {
   "cell_type": "markdown",
   "id": "def7c3cd",
   "metadata": {},
   "source": [
    "Read/Write Data with DF:"
   ]
  },
  {
   "cell_type": "markdown",
   "id": "0e9a6955",
   "metadata": {},
   "source": [
    "- spark.read.csv()\n",
    "- spark.read.options().csv()"
   ]
  },
  {
   "cell_type": "markdown",
   "id": "62f9e4ba",
   "metadata": {},
   "source": [
    "- Data can also be loaded in this format.\n",
    "- spark.read.load(path, format = \"avro or any other extensions\") -> generic load"
   ]
  },
  {
   "cell_type": "code",
   "execution_count": 1,
   "id": "8dd06f48",
   "metadata": {},
   "outputs": [],
   "source": [
    "import findspark\n",
    "findspark.init()"
   ]
  },
  {
   "cell_type": "code",
   "execution_count": 2,
   "id": "3e94601d",
   "metadata": {},
   "outputs": [],
   "source": [
    "import pyspark\n",
    "from pyspark.sql import SparkSession\n",
    "spark = SparkSession.builder.master(\"local[1]\") \\\n",
    "                    .appName('pyspark-examples') \\\n",
    "                    .getOrCreate()"
   ]
  },
  {
   "cell_type": "code",
   "execution_count": 3,
   "id": "18659c1d",
   "metadata": {},
   "outputs": [],
   "source": [
    "data  = spark.read.load(\"bankmarketdata.csv\",format = \"csv\", sep = \";\", delimiter=';',header=True,inferSchema=True)"
   ]
  },
  {
   "cell_type": "markdown",
   "id": "2e5f3836",
   "metadata": {},
   "source": [
    "If the data has to be loaded from HDFS: use hdfs://localhost:9000/path...."
   ]
  },
  {
   "cell_type": "markdown",
   "id": "aa997315",
   "metadata": {},
   "source": [
    "For writing the data,\n",
    "\n",
    "- df.write.save(path,format = csv, options)\n",
    "- df.write.format(\"csv\").save(path)"
   ]
  },
  {
   "cell_type": "code",
   "execution_count": null,
   "id": "357d0f1d",
   "metadata": {},
   "outputs": [],
   "source": [
    "# Reading Formats.\n",
    "df = spark.read.format('csv').load(\"/mnt/c/Users/miles/Documents/futurense_hadoop-pyspark/labs/dataset/bankmarket/bankmarketdata.csv\")\n",
    "data  = spark.read.load(\"/mnt/c/Users/miles/Documents/futurense_hadoop-pyspark/labs/dataset/bankmarket/bankmarketdata.csv\",format = \"csv\", sep = \";\", de\n",
    "limiter=';',header=True,inferSchema=True)\n",
    "# Writing Format Syntax.\n",
    "data.select('job','marital','age','y').write.format('csv').save(\"/mnt/c/Users/miles/Documents/futurense-dataengg-bootcamp/PySpark/result_csv\")\n",
    "# Reading the modified File in Generic Mode.\n",
    "data  = spark.read.load(\"/mnt/c/Users/miles/Documents/futurense_hadoop-pyspark/labs/dataset/bankmarket/bankmarketdata.csv\",format = \"csv\", sep = \";\", del"
   ]
  },
  {
   "cell_type": "code",
   "execution_count": null,
   "id": "a6472c75",
   "metadata": {},
   "outputs": [],
   "source": []
  }
 ],
 "metadata": {
  "kernelspec": {
   "display_name": "Python 3 (ipykernel)",
   "language": "python",
   "name": "python3"
  },
  "language_info": {
   "codemirror_mode": {
    "name": "ipython",
    "version": 3
   },
   "file_extension": ".py",
   "mimetype": "text/x-python",
   "name": "python",
   "nbconvert_exporter": "python",
   "pygments_lexer": "ipython3",
   "version": "3.9.13"
  }
 },
 "nbformat": 4,
 "nbformat_minor": 5
}
