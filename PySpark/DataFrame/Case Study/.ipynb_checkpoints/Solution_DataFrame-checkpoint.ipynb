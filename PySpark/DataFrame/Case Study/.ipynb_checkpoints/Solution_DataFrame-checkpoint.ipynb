{
 "cells": [
  {
   "cell_type": "code",
   "execution_count": 1,
   "id": "c25839a0",
   "metadata": {},
   "outputs": [],
   "source": [
    "import findspark\n",
    "findspark.init()"
   ]
  },
  {
   "cell_type": "code",
   "execution_count": 2,
   "id": "bdc89d2a",
   "metadata": {},
   "outputs": [],
   "source": [
    "from pyspark.sql.functions import *"
   ]
  },
  {
   "cell_type": "code",
   "execution_count": 3,
   "id": "cfc57eef",
   "metadata": {},
   "outputs": [],
   "source": [
    "import pyspark\n",
    "from pyspark.sql import SparkSession\n",
    "spark = SparkSession.builder.master(\"local[1]\") \\\n",
    "                    .appName('pyspark-examples') \\\n",
    "                    .getOrCreate()"
   ]
  },
  {
   "cell_type": "code",
   "execution_count": 20,
   "id": "63d9d97d",
   "metadata": {},
   "outputs": [],
   "source": [
    "data  = spark.read.options(delimiter=';',header=True,inferSchema=True).csv(\"bankmarketdata.csv\")"
   ]
  },
  {
   "cell_type": "code",
   "execution_count": 21,
   "id": "8024cccb",
   "metadata": {},
   "outputs": [
    {
     "name": "stdout",
     "output_type": "stream",
     "text": [
      "+---+------------+-------+---------+-------+-------+-------+----+-------+---+-----+--------+--------+-----+--------+--------+---+\n",
      "|age|         job|marital|education|default|balance|housing|loan|contact|day|month|duration|campaign|pdays|previous|poutcome|  y|\n",
      "+---+------------+-------+---------+-------+-------+-------+----+-------+---+-----+--------+--------+-----+--------+--------+---+\n",
      "| 58|  management|married| tertiary|     no|   2143|    yes|  no|unknown|  5|  may|     261|       1|   -1|       0| unknown| no|\n",
      "| 44|  technician| single|secondary|     no|     29|    yes|  no|unknown|  5|  may|     151|       1|   -1|       0| unknown| no|\n",
      "| 33|entrepreneur|married|secondary|     no|      2|    yes| yes|unknown|  5|  may|      76|       1|   -1|       0| unknown| no|\n",
      "| 47| blue-collar|married|  unknown|     no|   1506|    yes|  no|unknown|  5|  may|      92|       1|   -1|       0| unknown| no|\n",
      "| 33|     unknown| single|  unknown|     no|      1|     no|  no|unknown|  5|  may|     198|       1|   -1|       0| unknown| no|\n",
      "+---+------------+-------+---------+-------+-------+-------+----+-------+---+-----+--------+--------+-----+--------+--------+---+\n",
      "only showing top 5 rows\n",
      "\n"
     ]
    }
   ],
   "source": [
    "data.show(5)"
   ]
  },
  {
   "cell_type": "code",
   "execution_count": 4,
   "id": "107b50b9",
   "metadata": {},
   "outputs": [
    {
     "name": "stdout",
     "output_type": "stream",
     "text": [
      "root\n",
      " |-- _c0: string (nullable = true)\n",
      " |-- age: integer (nullable = true)\n",
      " |-- job: string (nullable = true)\n",
      " |-- marital: string (nullable = true)\n",
      " |-- education: string (nullable = true)\n",
      " |-- default: string (nullable = true)\n",
      " |-- balance: integer (nullable = true)\n",
      " |-- housing: string (nullable = true)\n",
      " |-- loan: string (nullable = true)\n",
      " |-- contact: string (nullable = true)\n",
      " |-- day: integer (nullable = true)\n",
      " |-- month: string (nullable = true)\n",
      " |-- duration: integer (nullable = true)\n",
      " |-- campaign: integer (nullable = true)\n",
      " |-- pdays: integer (nullable = true)\n",
      " |-- previous: integer (nullable = true)\n",
      " |-- poutcome: string (nullable = true)\n",
      " |-- y: string (nullable = true)\n",
      "\n"
     ]
    }
   ],
   "source": [
    "df = spark.read.option(\"header\", \"true\").option(\"inferSchema\", \"true\").csv(\"banking_data.csv\")\n",
    "df.printSchema()"
   ]
  },
  {
   "cell_type": "code",
   "execution_count": 5,
   "id": "f0d6665e",
   "metadata": {},
   "outputs": [
    {
     "name": "stdout",
     "output_type": "stream",
     "text": [
      "+---+----+------------+--------+---------+-------+-------+-------+----+-------+----+-----+--------+--------+-----+--------+--------+----+\n",
      "|_c0|age |job         |marital |education|default|balance|housing|loan|contact|day |month|duration|campaign|pdays|previous|poutcome|y   |\n",
      "+---+----+------------+--------+---------+-------+-------+-------+----+-------+----+-----+--------+--------+-----+--------+--------+----+\n",
      "|1  |58  |management  |married |tertiary |no     |2143   |yes    |no  |unknown|5   |may  |261     |1       |-1   |0       |unknown |no  |\n",
      "|\"  |null|null        |null    |null     |null   |null   |null   |null|null   |null|null |null    |null    |null |null    |null    |null|\n",
      "|2  |44  |technician  |single  |secondary|no     |29     |yes    |no  |unknown|5   |may  |151     |1       |-1   |0       |unknown |no  |\n",
      "|\"  |null|null        |null    |null     |null   |null   |null   |null|null   |null|null |null    |null    |null |null    |null    |null|\n",
      "|3  |33  |entrepreneur|married |secondary|no     |2      |yes    |yes |unknown|5   |may  |76      |1       |-1   |0       |unknown |no  |\n",
      "|\"  |null|null        |null    |null     |null   |null   |null   |null|null   |null|null |null    |null    |null |null    |null    |null|\n",
      "|4  |47  |blue-collar |married |unknown  |no     |1506   |yes    |no  |unknown|5   |may  |92      |1       |-1   |0       |unknown |no  |\n",
      "|\"  |null|null        |null    |null     |null   |null   |null   |null|null   |null|null |null    |null    |null |null    |null    |null|\n",
      "|5  |33  |unknown     |single  |unknown  |no     |1      |no     |no  |unknown|5   |may  |198     |1       |-1   |0       |unknown |no  |\n",
      "|\"  |null|null        |null    |null     |null   |null   |null   |null|null   |null|null |null    |null    |null |null    |null    |null|\n",
      "|6  |35  |management  |married |tertiary |no     |231    |yes    |no  |unknown|5   |may  |139     |1       |-1   |0       |unknown |no  |\n",
      "|\"  |null|null        |null    |null     |null   |null   |null   |null|null   |null|null |null    |null    |null |null    |null    |null|\n",
      "|7  |28  |management  |single  |tertiary |no     |447    |yes    |yes |unknown|5   |may  |217     |1       |-1   |0       |unknown |no  |\n",
      "|\"  |null|null        |null    |null     |null   |null   |null   |null|null   |null|null |null    |null    |null |null    |null    |null|\n",
      "|8  |42  |entrepreneur|divorced|tertiary |yes    |2      |yes    |no  |unknown|5   |may  |380     |1       |-1   |0       |unknown |no  |\n",
      "|\"  |null|null        |null    |null     |null   |null   |null   |null|null   |null|null |null    |null    |null |null    |null    |null|\n",
      "|9  |58  |retired     |married |primary  |no     |121    |yes    |no  |unknown|5   |may  |50      |1       |-1   |0       |unknown |no  |\n",
      "|\"  |null|null        |null    |null     |null   |null   |null   |null|null   |null|null |null    |null    |null |null    |null    |null|\n",
      "|10 |43  |technician  |single  |secondary|no     |593    |yes    |no  |unknown|5   |may  |55      |1       |-1   |0       |unknown |no  |\n",
      "|\"  |null|null        |null    |null     |null   |null   |null   |null|null   |null|null |null    |null    |null |null    |null    |null|\n",
      "+---+----+------------+--------+---------+-------+-------+-------+----+-------+----+-----+--------+--------+-----+--------+--------+----+\n",
      "only showing top 20 rows\n",
      "\n"
     ]
    }
   ],
   "source": [
    "df.show(truncate = False)"
   ]
  },
  {
   "cell_type": "code",
   "execution_count": 6,
   "id": "e691bbb0",
   "metadata": {},
   "outputs": [],
   "source": [
    "df = df.drop(\"_c0\")"
   ]
  },
  {
   "cell_type": "code",
   "execution_count": 7,
   "id": "1249c038",
   "metadata": {},
   "outputs": [
    {
     "name": "stdout",
     "output_type": "stream",
     "text": [
      "+----+------------+--------+---------+-------+-------+-------+----+-------+----+-----+--------+--------+-----+--------+--------+----+\n",
      "|age |job         |marital |education|default|balance|housing|loan|contact|day |month|duration|campaign|pdays|previous|poutcome|y   |\n",
      "+----+------------+--------+---------+-------+-------+-------+----+-------+----+-----+--------+--------+-----+--------+--------+----+\n",
      "|58  |management  |married |tertiary |no     |2143   |yes    |no  |unknown|5   |may  |261     |1       |-1   |0       |unknown |no  |\n",
      "|null|null        |null    |null     |null   |null   |null   |null|null   |null|null |null    |null    |null |null    |null    |null|\n",
      "|44  |technician  |single  |secondary|no     |29     |yes    |no  |unknown|5   |may  |151     |1       |-1   |0       |unknown |no  |\n",
      "|null|null        |null    |null     |null   |null   |null   |null|null   |null|null |null    |null    |null |null    |null    |null|\n",
      "|33  |entrepreneur|married |secondary|no     |2      |yes    |yes |unknown|5   |may  |76      |1       |-1   |0       |unknown |no  |\n",
      "|null|null        |null    |null     |null   |null   |null   |null|null   |null|null |null    |null    |null |null    |null    |null|\n",
      "|47  |blue-collar |married |unknown  |no     |1506   |yes    |no  |unknown|5   |may  |92      |1       |-1   |0       |unknown |no  |\n",
      "|null|null        |null    |null     |null   |null   |null   |null|null   |null|null |null    |null    |null |null    |null    |null|\n",
      "|33  |unknown     |single  |unknown  |no     |1      |no     |no  |unknown|5   |may  |198     |1       |-1   |0       |unknown |no  |\n",
      "|null|null        |null    |null     |null   |null   |null   |null|null   |null|null |null    |null    |null |null    |null    |null|\n",
      "|35  |management  |married |tertiary |no     |231    |yes    |no  |unknown|5   |may  |139     |1       |-1   |0       |unknown |no  |\n",
      "|null|null        |null    |null     |null   |null   |null   |null|null   |null|null |null    |null    |null |null    |null    |null|\n",
      "|28  |management  |single  |tertiary |no     |447    |yes    |yes |unknown|5   |may  |217     |1       |-1   |0       |unknown |no  |\n",
      "|null|null        |null    |null     |null   |null   |null   |null|null   |null|null |null    |null    |null |null    |null    |null|\n",
      "|42  |entrepreneur|divorced|tertiary |yes    |2      |yes    |no  |unknown|5   |may  |380     |1       |-1   |0       |unknown |no  |\n",
      "|null|null        |null    |null     |null   |null   |null   |null|null   |null|null |null    |null    |null |null    |null    |null|\n",
      "|58  |retired     |married |primary  |no     |121    |yes    |no  |unknown|5   |may  |50      |1       |-1   |0       |unknown |no  |\n",
      "|null|null        |null    |null     |null   |null   |null   |null|null   |null|null |null    |null    |null |null    |null    |null|\n",
      "|43  |technician  |single  |secondary|no     |593    |yes    |no  |unknown|5   |may  |55      |1       |-1   |0       |unknown |no  |\n",
      "|null|null        |null    |null     |null   |null   |null   |null|null   |null|null |null    |null    |null |null    |null    |null|\n",
      "+----+------------+--------+---------+-------+-------+-------+----+-------+----+-----+--------+--------+-----+--------+--------+----+\n",
      "only showing top 20 rows\n",
      "\n"
     ]
    }
   ],
   "source": [
    "df.show(truncate = False)"
   ]
  },
  {
   "cell_type": "markdown",
   "id": "8bff635a",
   "metadata": {},
   "source": [
    "Give marketing success rate. (No. of people subscribed / total no. of entries) "
   ]
  },
  {
   "cell_type": "code",
   "execution_count": 8,
   "id": "27ad4830",
   "metadata": {},
   "outputs": [
    {
     "name": "stdout",
     "output_type": "stream",
     "text": [
      "11.698480458295547\n"
     ]
    }
   ],
   "source": [
    "#PySpark \n",
    "yes_count = df.filter(col('y') == 'yes').agg(count(col(\"y\"))).collect()[0][0]\n",
    "total_count = df.agg(count(col('y'))).collect()[0][0]\n",
    "success_rate = (yes_count / total_count) * 100\n",
    "print(success_rate)"
   ]
  },
  {
   "cell_type": "code",
   "execution_count": 9,
   "id": "e699869e",
   "metadata": {},
   "outputs": [
    {
     "name": "stdout",
     "output_type": "stream",
     "text": [
      "11.698480458295547\n"
     ]
    }
   ],
   "source": [
    "#Using spark.sql\n",
    "df.createOrReplaceTempView(\"Banking\")\n",
    "\n",
    "yes_count = spark.sql(\"SELECT COUNT(*) FROM Banking WHERE y = 'yes'\").collect()[0][0]\n",
    "total_count = spark.sql(\"SELECT COUNT(*) FROM Banking where y is not NUll\").collect()[0][0]\n",
    "success_rate = (yes_count / total_count) * 100\n",
    "print(success_rate)"
   ]
  },
  {
   "cell_type": "markdown",
   "id": "9d2ae434",
   "metadata": {},
   "source": [
    "Give marketing failure rate "
   ]
  },
  {
   "cell_type": "code",
   "execution_count": 10,
   "id": "bdc9d638",
   "metadata": {},
   "outputs": [
    {
     "name": "stdout",
     "output_type": "stream",
     "text": [
      "88.30151954170445\n"
     ]
    }
   ],
   "source": [
    "#PySpark\n",
    "no_count = df.filter(col('y') == 'no').agg(count(col(\"y\"))).collect()[0][0]\n",
    "total_count = df.agg(count(col('y'))).collect()[0][0]\n",
    "failure_rate = (no_count / total_count) * 100\n",
    "print(failure_rate)"
   ]
  },
  {
   "cell_type": "code",
   "execution_count": 11,
   "id": "96074ee2",
   "metadata": {},
   "outputs": [
    {
     "name": "stdout",
     "output_type": "stream",
     "text": [
      "88.30151954170445\n"
     ]
    }
   ],
   "source": [
    "#Using spark.sql\n",
    "df.createOrReplaceTempView(\"Banking\")\n",
    "no_count = spark.sql(\"SELECT COUNT(*) FROM Banking WHERE y = 'no'\").collect()[0][0]\n",
    "total_count = spark.sql(\"SELECT COUNT(*) FROM Banking where y is not NUll\").collect()[0][0]\n",
    "failure_rate = (no_count / total_count) * 100\n",
    "print(failure_rate)"
   ]
  },
  {
   "cell_type": "markdown",
   "id": "5c61c49c",
   "metadata": {},
   "source": [
    "Maximum, Mean, and Minimum age of the average targeted customer "
   ]
  },
  {
   "cell_type": "code",
   "execution_count": 12,
   "id": "62f40013",
   "metadata": {},
   "outputs": [
    {
     "name": "stdout",
     "output_type": "stream",
     "text": [
      "Maximum, Mean, and Minimum age of the average targeted customer's are : \n",
      "95\n",
      "18\n",
      "40.93621021432837\n"
     ]
    }
   ],
   "source": [
    "#PySpark\n",
    "print(\"Maximum, Mean, and Minimum age of the average targeted customer's are : \")\n",
    "for i in range(3):\n",
    "\tprint(df.agg(max(col('age')), min(col('age')), mean(col('age'))).collect()[0][i])"
   ]
  },
  {
   "cell_type": "code",
   "execution_count": 13,
   "id": "2892cc0a",
   "metadata": {},
   "outputs": [
    {
     "name": "stdout",
     "output_type": "stream",
     "text": [
      "95 18 40.93621021432837\n"
     ]
    }
   ],
   "source": [
    "# Using spark.sql\n",
    "maximum_Age = spark.sql(\"select max(age) from Banking where y is not Null\").collect()[0][0]\n",
    "mean_Age = spark.sql(\"select mean(age) from Banking where y is not Null\").collect()[0][0]\n",
    "minimum_Age = spark.sql(\"select min(age) from Banking where y is not Null\").collect()[0][0]\n",
    "print(maximum_Age, minimum_Age, mean_Age)"
   ]
  },
  {
   "cell_type": "markdown",
   "id": "bada2259",
   "metadata": {},
   "source": [
    "Check the quality of customers by checking the average balance, median balance of customers "
   ]
  },
  {
   "cell_type": "code",
   "execution_count": 14,
   "id": "5e7d9892",
   "metadata": {},
   "outputs": [
    {
     "name": "stdout",
     "output_type": "stream",
     "text": [
      "Quality of customers by checking the average balance, median balance of customers : \n",
      "1362.2720576850766\n",
      "448\n"
     ]
    }
   ],
   "source": [
    "print(\"Quality of customers by checking the average balance, median balance of customers : \")\n",
    "for i in range(2):\n",
    "\tprint(df.agg(avg(col('balance')), percentile_approx(col('balance'),0.5)).collect()[0][i])"
   ]
  },
  {
   "cell_type": "code",
   "execution_count": 18,
   "id": "8b29bacb",
   "metadata": {},
   "outputs": [
    {
     "name": "stdout",
     "output_type": "stream",
     "text": [
      "448 1362.2720576850766\n"
     ]
    }
   ],
   "source": [
    "# Using spark.sql\n",
    "average_balance = spark.sql(\"select percentile_approx(balance,0.5) from Banking where y is not Null\").collect()[0][0]\n",
    "median_balance = spark.sql(\"select mean(balance) from Banking where y is not Null\").collect()[0][0]\n",
    "print(average_balance, median_balance)"
   ]
  },
  {
   "cell_type": "markdown",
   "id": "38c1928a",
   "metadata": {},
   "source": [
    "Check if age matters in marketing subscription for deposit "
   ]
  },
  {
   "cell_type": "code",
   "execution_count": 15,
   "id": "2e5c27cc",
   "metadata": {},
   "outputs": [
    {
     "name": "stdout",
     "output_type": "stream",
     "text": [
      "+---+----------+\n",
      "|age|count(age)|\n",
      "+---+----------+\n",
      "|18 |7         |\n",
      "|19 |11        |\n",
      "|20 |15        |\n",
      "|21 |22        |\n",
      "|22 |40        |\n",
      "|23 |44        |\n",
      "|24 |68        |\n",
      "|25 |113       |\n",
      "|26 |134       |\n",
      "|27 |141       |\n",
      "|28 |162       |\n",
      "|29 |171       |\n",
      "|30 |217       |\n",
      "|31 |206       |\n",
      "|32 |221       |\n",
      "|33 |210       |\n",
      "|34 |198       |\n",
      "|35 |209       |\n",
      "|36 |195       |\n",
      "|37 |170       |\n",
      "+---+----------+\n",
      "only showing top 20 rows\n",
      "\n"
     ]
    }
   ],
   "source": [
    "df.select('age','y').where((df.y != '') & (df.y == 'yes')).groupby('age').agg(count(col('age'))).orderBy('age').show(truncate =False)"
   ]
  },
  {
   "cell_type": "code",
   "execution_count": 34,
   "id": "714e680b",
   "metadata": {},
   "outputs": [
    {
     "name": "stdout",
     "output_type": "stream",
     "text": [
      "Row(count=6983, age_group='Youngsters')\n",
      "Row(count=10194, age_group='Seniors')\n",
      "Row(count=47, age_group='Teenagers')\n",
      "Row(count=27987, age_group='MiddleAgers')\n"
     ]
    }
   ],
   "source": [
    "# Using spark.sql\n",
    "result = spark.sql(\"SELECT count(*) as count, case when age < 13 then 'Kids' \\\n",
    "\t\t   when (age >= 13) and (age <= 19) then 'Teenagers' \\\n",
    "           when (age > 19) and (age <= 30) then 'Youngsters' \\\n",
    "           when (age > 30) and (age < 50) then 'MiddleAgers' \\\n",
    "           else 'Seniors' END as age_group \\\n",
    "           FROM Banking where y is not Null \\\n",
    "           group by (age_group)\").collect()\n",
    "\n",
    "for i in result:\n",
    "    print(i)"
   ]
  },
  {
   "cell_type": "markdown",
   "id": "1a318dba",
   "metadata": {},
   "source": [
    "Check if marital status mattered for subscription to deposit. "
   ]
  },
  {
   "cell_type": "code",
   "execution_count": 16,
   "id": "79fb743c",
   "metadata": {},
   "outputs": [
    {
     "name": "stdout",
     "output_type": "stream",
     "text": [
      "+--------+--------------+\n",
      "|marital |count(marital)|\n",
      "+--------+--------------+\n",
      "|divorced|622           |\n",
      "|married |2755          |\n",
      "|single  |1912          |\n",
      "+--------+--------------+\n",
      "\n"
     ]
    }
   ],
   "source": [
    "df.select('marital','y').where((df.y != '') & (df.y == 'yes')).groupby('marital').agg(count(col('marital'))).show(truncate =False)"
   ]
  },
  {
   "cell_type": "code",
   "execution_count": 35,
   "id": "568fa06b",
   "metadata": {},
   "outputs": [
    {
     "name": "stdout",
     "output_type": "stream",
     "text": [
      "Row(count=5207, marital='divorced')\n",
      "Row(count=27214, marital='married')\n",
      "Row(count=12790, marital='single')\n"
     ]
    }
   ],
   "source": [
    "# Using spark.sql\n",
    "\n",
    "result = spark.sql(\"SELECT count(*) as count, marital \\\n",
    "           FROM Banking where y is not Null \\\n",
    "           group by (marital)\").collect()\n",
    "\n",
    "for i in result:\n",
    "    print(i)"
   ]
  },
  {
   "cell_type": "markdown",
   "id": "87e2bbb7",
   "metadata": {},
   "source": [
    "Check if age and marital status together mattered for subscription to deposit scheme "
   ]
  },
  {
   "cell_type": "code",
   "execution_count": 17,
   "id": "f3ab2704",
   "metadata": {},
   "outputs": [
    {
     "name": "stdout",
     "output_type": "stream",
     "text": [
      "+---+--------+--------+\n",
      "|age|marital |count(y)|\n",
      "+---+--------+--------+\n",
      "|18 |single  |7       |\n",
      "|19 |single  |11      |\n",
      "|20 |single  |14      |\n",
      "|20 |married |1       |\n",
      "|21 |single  |21      |\n",
      "|21 |married |1       |\n",
      "|22 |single  |40      |\n",
      "|23 |married |2       |\n",
      "|23 |single  |42      |\n",
      "|24 |single  |58      |\n",
      "|24 |married |10      |\n",
      "|25 |married |14      |\n",
      "|25 |single  |99      |\n",
      "|26 |married |13      |\n",
      "|26 |single  |121     |\n",
      "|27 |married |29      |\n",
      "|27 |single  |110     |\n",
      "|27 |divorced|2       |\n",
      "|28 |married |20      |\n",
      "|28 |single  |138     |\n",
      "+---+--------+--------+\n",
      "only showing top 20 rows\n",
      "\n"
     ]
    }
   ],
   "source": [
    "df.select('age','marital','y').where((df.y != '') & (df.y == 'yes')).groupby('age','marital').agg(count(col('y'))).orderBy('age').show(truncate =False)"
   ]
  },
  {
   "cell_type": "code",
   "execution_count": 39,
   "id": "a7366903",
   "metadata": {},
   "outputs": [
    {
     "name": "stdout",
     "output_type": "stream",
     "text": [
      "Row(count=170, marital='divorced', age_group='Youngsters')\n",
      "Row(count=17427, marital='married', age_group='MiddleAgers')\n",
      "Row(count=7386, marital='single', age_group='MiddleAgers')\n",
      "Row(count=2061, marital='married', age_group='Youngsters')\n",
      "Row(count=7726, marital='married', age_group='Seniors')\n",
      "Row(count=3174, marital='divorced', age_group='MiddleAgers')\n",
      "Row(count=47, marital='single', age_group='Teenagers')\n",
      "Row(count=1863, marital='divorced', age_group='Seniors')\n",
      "Row(count=4752, marital='single', age_group='Youngsters')\n",
      "Row(count=605, marital='single', age_group='Seniors')\n"
     ]
    }
   ],
   "source": [
    "# Using spark.sql\n",
    "\n",
    "result = spark.sql(\"SELECT count(*) as count, marital,  case when age < 13 then 'Kids' \\\n",
    "\t\t   when (age >= 13) and (age <= 19) then 'Teenagers' \\\n",
    "           when (age > 19) and (age <= 30) then 'Youngsters' \\\n",
    "           when (age > 30) and (age < 50) then 'MiddleAgers' \\\n",
    "           else 'Seniors' END as age_group \\\n",
    "           FROM Banking where y is not Null \\\n",
    "           group by marital, age_group\").collect()\n",
    "\n",
    "for i in result:\n",
    "    print(i)"
   ]
  },
  {
   "cell_type": "code",
   "execution_count": null,
   "id": "856d52ee",
   "metadata": {},
   "outputs": [],
   "source": []
  }
 ],
 "metadata": {
  "kernelspec": {
   "display_name": "Python 3 (ipykernel)",
   "language": "python",
   "name": "python3"
  },
  "language_info": {
   "codemirror_mode": {
    "name": "ipython",
    "version": 3
   },
   "file_extension": ".py",
   "mimetype": "text/x-python",
   "name": "python",
   "nbconvert_exporter": "python",
   "pygments_lexer": "ipython3",
   "version": "3.9.13"
  }
 },
 "nbformat": 4,
 "nbformat_minor": 5
}
