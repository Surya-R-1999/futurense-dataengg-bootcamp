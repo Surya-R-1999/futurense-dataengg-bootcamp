{
 "cells": [
  {
   "cell_type": "code",
   "execution_count": 12,
   "id": "12f5fc51",
   "metadata": {},
   "outputs": [],
   "source": [
    "\n",
    "import pandas as pd\n",
    "\n",
    "results = {}\n",
    "\n",
    "results['Success_Rate'] = 'Success Rate : 11.698480458295547'\n",
    "\n",
    "results['Failure_Rate'] = 'Failure Rate : 88.30151954170445'\n",
    "\n",
    "results['age_wise_targetted_customers'] =  'Maximum Age, Minimum Age and Average Age : 9518 40.93621021432837'\n",
    "\n",
    "results['quality_of_customers'] = 'Average Balance and Median Banlance :448 1362.2720576850766'\n",
    "\n",
    "results_df = pd.DataFrame([results])"
   ]
  },
  {
   "cell_type": "code",
   "execution_count": 14,
   "id": "2fe39483",
   "metadata": {},
   "outputs": [
    {
     "data": {
      "text/html": [
       "<div>\n",
       "<style scoped>\n",
       "    .dataframe tbody tr th:only-of-type {\n",
       "        vertical-align: middle;\n",
       "    }\n",
       "\n",
       "    .dataframe tbody tr th {\n",
       "        vertical-align: top;\n",
       "    }\n",
       "\n",
       "    .dataframe thead th {\n",
       "        text-align: right;\n",
       "    }\n",
       "</style>\n",
       "<table border=\"1\" class=\"dataframe\">\n",
       "  <thead>\n",
       "    <tr style=\"text-align: right;\">\n",
       "      <th></th>\n",
       "      <th>Success_Rate</th>\n",
       "      <th>Failure_Rate</th>\n",
       "      <th>age_wise_targetted_customers</th>\n",
       "      <th>quality_of_customers</th>\n",
       "    </tr>\n",
       "  </thead>\n",
       "  <tbody>\n",
       "    <tr>\n",
       "      <th>0</th>\n",
       "      <td>Success Rate : 11.698480458295547</td>\n",
       "      <td>Failure Rate : 88.30151954170445</td>\n",
       "      <td>Maximum Age, Minimum Age and Average Age : 951...</td>\n",
       "      <td>Average Balance and Median Banlance :448 1362....</td>\n",
       "    </tr>\n",
       "  </tbody>\n",
       "</table>\n",
       "</div>"
      ],
      "text/plain": [
       "                        Success_Rate                      Failure_Rate  \\\n",
       "0  Success Rate : 11.698480458295547  Failure Rate : 88.30151954170445   \n",
       "\n",
       "                        age_wise_targetted_customers  \\\n",
       "0  Maximum Age, Minimum Age and Average Age : 951...   \n",
       "\n",
       "                                quality_of_customers  \n",
       "0  Average Balance and Median Banlance :448 1362....  "
      ]
     },
     "execution_count": 14,
     "metadata": {},
     "output_type": "execute_result"
    }
   ],
   "source": [
    "results_df"
   ]
  },
  {
   "cell_type": "code",
   "execution_count": null,
   "id": "21d174db",
   "metadata": {},
   "outputs": [],
   "source": [
    "import pandas as pd\n",
    "\n",
    "results = {}\n",
    "\n",
    "results['Success_Rate'] = Success_Rate_str\n",
    "\n",
    "results['Failure_Rate'] = Failure_Rate_str\n",
    "\n",
    "results['age_wise_targetted_customers'] =  age_wise_targetted_customers_str\n",
    "\n",
    "results['quality_of_customers'] = quality_of_customers_str\n",
    "\n",
    "results_df = pd.DataFrame([results])"
   ]
  }
 ],
 "metadata": {
  "kernelspec": {
   "display_name": "Python 3 (ipykernel)",
   "language": "python",
   "name": "python3"
  },
  "language_info": {
   "codemirror_mode": {
    "name": "ipython",
    "version": 3
   },
   "file_extension": ".py",
   "mimetype": "text/x-python",
   "name": "python",
   "nbconvert_exporter": "python",
   "pygments_lexer": "ipython3",
   "version": "3.9.13"
  }
 },
 "nbformat": 4,
 "nbformat_minor": 5
}
